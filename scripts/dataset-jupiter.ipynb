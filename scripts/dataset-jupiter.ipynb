{
 "cells": [
  {
   "cell_type": "code",
   "execution_count": null,
   "id": "2fdc58eb",
   "metadata": {},
   "outputs": [],
   "source": [
    "    import pandas as pd\n",
    "    import os\n",
    "    import zipfile\n",
    "    from kaggle.api.kaggle_api_extended import KaggleApi\n",
    "    import ast\n",
    "    from sklearn.preprocessing import MultiLabelBinarizer\n",
    "    from sklearn.model_selection import train_test_split\n",
    "    from sklearn.linear_model import LogisticRegression\n",
    "    from sklearn.multiclass import OneVsRestClassifier\n",
    "    from scipy.sparse import csr_matrix\n",
    "    import numpy as np\n",
    "    import joblib \n",
    "    from sklearn.preprocessing import LabelEncoder"
   ]
  },
  {
   "cell_type": "code",
   "execution_count": 7,
   "id": "7be3aa5c",
   "metadata": {},
   "outputs": [
    {
     "name": "stdout",
     "output_type": "stream",
     "text": [
      "Dataset URL: https://www.kaggle.com/datasets/paultimothymooney/recipenlg\n"
     ]
    }
   ],
   "source": [
    "api=KaggleApi()\n",
    "api.authenticate()\n",
    "\n",
    "api.dataset_download_file(\n",
    "    'paultimothymooney/recipenlg',\n",
    "    file_name='RecipeNLG_dataset.csv',\n",
    "    path='../data'\n",
    ")\n",
    "\n",
    "original_path = '../data/RecipeNLG_dataset.csv'\n",
    "zip_path = '../data/RecipeNLG_dataset.zip'\n",
    "os.rename(original_path, zip_path)\n",
    "with zipfile.ZipFile(zip_path, 'r') as zip_ref:\n",
    "    zip_ref.extractall('../data')\n",
    "os.remove(zip_path)\n",
    "\n",
    "input_path='../data/RecipeNLG_dataset.csv'\n",
    "output_path='../data/train-data.csv'"
   ]
  },
  {
   "cell_type": "code",
   "execution_count": 8,
   "id": "aac91c65",
   "metadata": {},
   "outputs": [
    {
     "name": "stdout",
     "output_type": "stream",
     "text": [
      "Reading dataset from ../data/RecipeNLG_dataset.csv\n",
      "Dataset imported. Shape: (2231142, 7)\n"
     ]
    }
   ],
   "source": [
    "print(f'Reading dataset from {input_path}')\n",
    "data = pd.read_csv(input_path)\n",
    "print(f'Dataset imported. Shape: {data.shape}')"
   ]
  },
  {
   "cell_type": "code",
   "execution_count": 9,
   "id": "7d0f66c6",
   "metadata": {},
   "outputs": [
    {
     "name": "stdout",
     "output_type": "stream",
     "text": [
      "Cleaning dataset...\n",
      "Shape: (2231141, 2)\n"
     ]
    }
   ],
   "source": [
    "print(f'Cleaning dataset...')\n",
    "data.dropna(inplace=True)\n",
    "data.drop_duplicates(inplace=True)\n",
    "columns_to_drop = [\"Unnamed: 0\", \"ingredients\", \"directions\", \"link\", \"source\"]\n",
    "data.drop(columns=columns_to_drop, inplace=True)\n",
    "data.rename(columns={\"NER\": \"ingredients\"}, inplace=True)\n",
    "print(f'Shape: {data.shape}')"
   ]
  },
  {
   "cell_type": "code",
   "execution_count": 10,
   "id": "d2fd11e8",
   "metadata": {},
   "outputs": [
    {
     "name": "stdout",
     "output_type": "stream",
     "text": [
      "                         title  \\\n",
      "0          No-Bake Nut Cookies   \n",
      "1        Jewell Ball'S Chicken   \n",
      "2                  Creamy Corn   \n",
      "3                Chicken Funny   \n",
      "4         Reeses Cups(Candy)     \n",
      "...                        ...   \n",
      "9995          Pink Fruit Salad   \n",
      "9996            Peppered Steak   \n",
      "9997         Chicken Casserole   \n",
      "9998  Sweet Potatoes Casserole   \n",
      "9999             7 Layer Salad   \n",
      "\n",
      "                                            ingredients  \n",
      "0     [\"brown sugar\", \"milk\", \"vanilla\", \"nuts\", \"bu...  \n",
      "1     [\"beef\", \"chicken breasts\", \"cream of mushroom...  \n",
      "2     [\"frozen corn\", \"cream cheese\", \"butter\", \"gar...  \n",
      "3     [\"chicken\", \"chicken gravy\", \"cream of mushroo...  \n",
      "4     [\"peanut butter\", \"graham cracker crumbs\", \"bu...  \n",
      "...                                                 ...  \n",
      "9995  [\"cherry pie filling\", \"condensed milk\", \"pine...  \n",
      "9996  [\"bell pepper\", \"onion\", \"tomatoes\", \"salt\", \"...  \n",
      "9997  [\"fryer\", \"onion\", \"green pepper\", \"celery\", \"...  \n",
      "9998  [\"yams\", \"sugar\", \"egg\", \"milk\", \"vanilla flav...  \n",
      "9999  [\"spinach\", \"mushrooms\", \"Bermuda onion\", \"egg...  \n",
      "\n",
      "[10000 rows x 2 columns]\n"
     ]
    }
   ],
   "source": [
    "data = data.head(10000)\n",
    "print(data)"
   ]
  },
  {
   "cell_type": "code",
   "execution_count": null,
   "id": "07237c36",
   "metadata": {},
   "outputs": [
    {
     "name": "stdout",
     "output_type": "stream",
     "text": [
      "Modifing dataset...\n",
      "Final shape: (10000, 4182)\n",
      "Exporting new dataset...\n",
      "New dataset exported to ../data/train-data.csv\n"
     ]
    }
   ],
   "source": [
    "print('Modifing dataset...')\n",
    "data['ingredients'] = data['ingredients'].apply(ast.literal_eval)\n",
    "\n",
    "mlb = MultiLabelBinarizer(sparse_output=True)\n",
    "ingredient_matrix = mlb.fit_transform(data['ingredients'])\n",
    "\n",
    "ingredient_df = pd.DataFrame.sparse.from_spmatrix(\n",
    "    ingredient_matrix, \n",
    "    index=data.index, \n",
    "    columns=mlb.classes_\n",
    ")\n",
    "\n",
    "data = pd.concat([data, ingredient_df], axis=1)\n",
    "data.drop(columns=['ingredients'], inplace=True)\n",
    "print(f'Final shape: {data.shape}')\n",
    "\n",
    "print('Exporting new dataset...')\n",
    "data.to_csv(output_path)\n",
    "print(f'New dataset exported to {output_path}')\n"
   ]
  },
  {
   "cell_type": "code",
   "execution_count": null,
   "id": "29d5ece4",
   "metadata": {},
   "outputs": [],
   "source": [
    "# wybor najpopularniejszych przepisow\n",
    "top_recipes = data['title'].value_counts().nlargest(100).index\n",
    "data = data[data['title'].isin(top_recipes)]\n",
    "print(f\"Liczba unikalnych tytułów przepisów: {data['title'].nunique()}\")\n",
    "\n",
    "# kodowanie title na liczby\n",
    "label_encoder = LabelEncoder()\n",
    "data['label'] = label_encoder.fit_transform(data['title'])\n",
    "\n",
    "# X - kolumny składników, y - zakodowane etykiety przepisow\n",
    "ingredient_columns = data.columns.difference(['title', 'label'])\n",
    "X = data[ingredient_columns]\n",
    "y = data['label']\n",
    "\n",
    "# podział na zbiór treningowy i testowy\n",
    "X_train, X_test, y_train, y_test = train_test_split(\n",
    "    X, y, test_size=0.2, random_state=42, stratify=y\n",
    ")\n",
    "\n",
    "# trenowanie prostego modelu\n",
    "model = LogisticRegression(max_iter=100)\n",
    "classifier = OneVsRestClassifier(model)\n",
    "classifier.fit(X_train, y_train)"
   ]
  },
  {
   "cell_type": "code",
   "execution_count": null,
   "id": "90b3b9d9",
   "metadata": {},
   "outputs": [
    {
     "data": {
      "text/plain": [
       "['label_encoder.pkl']"
      ]
     },
     "execution_count": 29,
     "metadata": {},
     "output_type": "execute_result"
    }
   ],
   "source": [
    "# zapis modelu\n",
    "joblib.dump(classifier, 'recipe_model.pkl')\n",
    "joblib.dump(label_encoder, 'label_encoder.pkl')"
   ]
  },
  {
   "cell_type": "code",
   "execution_count": null,
   "id": "9c27d85c",
   "metadata": {},
   "outputs": [],
   "source": [
    "# ewaluacja:\n",
    "from sklearn.metrics import accuracy_score, classification_report\n",
    "\n",
    "y_pred = classifier.predict(X_test)\n",
    "print(\"Accuracy:\", accuracy_score(y_test, y_pred))\n",
    "print(classification_report(y_test, y_pred, target_names=label_encoder.classes_))"
   ]
  }
 ],
 "metadata": {
  "kernelspec": {
   "display_name": "Python 3",
   "language": "python",
   "name": "python3"
  },
  "language_info": {
   "codemirror_mode": {
    "name": "ipython",
    "version": 3
   },
   "file_extension": ".py",
   "mimetype": "text/x-python",
   "name": "python",
   "nbconvert_exporter": "python",
   "pygments_lexer": "ipython3",
   "version": "3.13.2"
  }
 },
 "nbformat": 4,
 "nbformat_minor": 5
}
